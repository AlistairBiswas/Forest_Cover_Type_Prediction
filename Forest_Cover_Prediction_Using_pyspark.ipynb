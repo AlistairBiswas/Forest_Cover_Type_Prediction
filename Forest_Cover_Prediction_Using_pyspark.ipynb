{
  "cells": [
    {
      "cell_type": "markdown",
      "source": [
        "# Forest Cover Prediction Using pyspark"
      ],
      "metadata": {
        "application/vnd.databricks.v1+cell": {
          "title": "",
          "showTitle": false,
          "inputWidgets": {},
          "nuid": "eb89508a-8cde-4153-b43b-610d3a218998"
        },
        "id": "3ZCdDt2ZixF3"
      }
    },
    {
      "cell_type": "markdown",
      "source": [
        "## Introduction:\n",
        "**Analysis Flow:**  \n",
        "  - **Part A: Set up the Environment**  \n",
        "  - **Part B: Load and Explore the Data**\n",
        "  - **Part C: Preprocessing and Splitting the Data**\n",
        "  - **Part D: Hyperparameter Tuning for Logistic Regression**\n",
        "  - **Part E: Hyperparameter Tuning for Decision Trees**  \n",
        "  - **Part F: Identifying and Evaluating the Final Model**  \n",
        "  - **Part G: Applying the Model to New Data:**"
      ],
      "metadata": {
        "application/vnd.databricks.v1+cell": {
          "title": "",
          "showTitle": false,
          "inputWidgets": {},
          "nuid": "771950d7-7fb2-4473-a91a-c8d0a21ca5fa"
        },
        "id": "GPUrEfNqixF4"
      }
    },
    {
      "cell_type": "markdown",
      "source": [
        "## Part A: Set up the Environment\n",
        "We will start by importing the required pyspark tools."
      ],
      "metadata": {
        "application/vnd.databricks.v1+cell": {
          "title": "",
          "showTitle": false,
          "inputWidgets": {},
          "nuid": "6460576b-2006-4b7c-9039-8a0c435875bf"
        },
        "id": "h0BTe3FdixF6"
      }
    },
    {
      "cell_type": "code",
      "source": [
        "import numpy as np\n",
        "import pandas as pd\n",
        "import matplotlib.pyplot as plt\n",
        "from pyspark.sql import SparkSession\n",
        "from pyspark.sql.functions import col, expr\n",
        "from pyspark.ml.feature import StringIndexer, OneHotEncoder, VectorAssembler\n",
        "from pyspark.ml.classification import DecisionTreeClassifier, LogisticRegression\n",
        "from pyspark.ml import Pipeline\n",
        "from pyspark.ml.tuning import CrossValidator, ParamGridBuilder\n",
        "from pyspark.ml.evaluation import MulticlassClassificationEvaluator\n",
        "from pyspark.mllib.evaluation import MulticlassMetrics\n",
        "\n",
        "spark = SparkSession.builder.getOrCreate()"
      ],
      "metadata": {
        "application/vnd.databricks.v1+cell": {
          "title": "",
          "showTitle": false,
          "inputWidgets": {},
          "nuid": "06925fe3-ebd7-43bc-8584-112941ef321b"
        },
        "id": "wy5TOS-SixF7",
        "outputId": "97348dd0-8798-4a50-aa15-f0ca029122d0"
      },
      "outputs": [
        {
          "output_type": "display_data",
          "metadata": {
            "application/vnd.databricks.v1+output": {
              "datasetInfos": [],
              "data": "<div class=\"ansiout\"></div>",
              "removedWidgets": [],
              "addedWidgets": {},
              "metadata": {},
              "type": "html",
              "arguments": {}
            }
          },
          "data": {
            "text/html": [
              "<style scoped>\n  .ansiout {\n    display: block;\n    unicode-bidi: embed;\n    white-space: pre-wrap;\n    word-wrap: break-word;\n    word-break: break-all;\n    font-family: \"Source Code Pro\", \"Menlo\", monospace;;\n    font-size: 13px;\n    color: #555;\n    margin-left: 4px;\n    line-height: 19px;\n  }\n</style>\n<div class=\"ansiout\"></div>"
            ]
          }
        }
      ],
      "execution_count": null
    },
    {
      "cell_type": "markdown",
      "source": [
        "## Part B: Load and Explore the Data\n",
        "In this part, we will load and preview the forest_cover data."
      ],
      "metadata": {
        "application/vnd.databricks.v1+cell": {
          "title": "",
          "showTitle": false,
          "inputWidgets": {},
          "nuid": "08db9dd4-6efc-4343-9aa3-cc22bde36722"
        },
        "id": "sb_JgM_oixF8"
      }
    },
    {
      "cell_type": "markdown",
      "source": [
        "We will start by creating the schema and reading the data."
      ],
      "metadata": {
        "application/vnd.databricks.v1+cell": {
          "title": "",
          "showTitle": false,
          "inputWidgets": {},
          "nuid": "c70050f1-eb5c-4729-9275-957dc72841d9"
        },
        "id": "fkVKrEhSixF8"
      }
    },
    {
      "cell_type": "code",
      "source": [
        "fc_schema = (\n",
        "'Elevation INTEGER,  Aspect INTEGER, Slope INTEGER, Horizontal_Distance_To_Hydrology INTEGER,' 'Vertical_Distance_To_Hydrology INTEGER, Horizontal_Distance_To_Roadways INTEGER, Hillshade_9am INTEGER,'\n",
        "'Hillshade_Noon INTEGER, Hillshade_3pm INTEGER, Horizontal_Distance_To_Fire_Points INTEGER,'\n",
        " 'Wilderness_Area STRING, Soil_Type INTEGER, Cover_Type INTEGER'\n",
        ")\n",
        "fc = (\n",
        "  spark.read\n",
        "       .option('delimiter', '\\t')\n",
        "       .option('header', True)\n",
        "       .schema(fc_schema)\n",
        "       .csv('/FileStore/tables/forest_cover.csv')\n",
        "          )\n",
        "fc.printSchema()"
      ],
      "metadata": {
        "application/vnd.databricks.v1+cell": {
          "title": "",
          "showTitle": false,
          "inputWidgets": {},
          "nuid": "e91e64f4-f395-4a30-81cc-33424e3b2960"
        },
        "id": "f3c3fdl7ixF8",
        "outputId": "3b0d7f50-fd45-4657-9d19-13acf51618cf"
      },
      "outputs": [
        {
          "output_type": "display_data",
          "metadata": {
            "application/vnd.databricks.v1+output": {
              "datasetInfos": [],
              "data": "<div class=\"ansiout\">root\n |-- Elevation: integer (nullable = true)\n |-- Aspect: integer (nullable = true)\n |-- Slope: integer (nullable = true)\n |-- Horizontal_Distance_To_Hydrology: integer (nullable = true)\n |-- Vertical_Distance_To_Hydrology: integer (nullable = true)\n |-- Horizontal_Distance_To_Roadways: integer (nullable = true)\n |-- Hillshade_9am: integer (nullable = true)\n |-- Hillshade_Noon: integer (nullable = true)\n |-- Hillshade_3pm: integer (nullable = true)\n |-- Horizontal_Distance_To_Fire_Points: integer (nullable = true)\n |-- Wilderness_Area: string (nullable = true)\n |-- Soil_Type: integer (nullable = true)\n |-- Cover_Type: integer (nullable = true)\n\n</div>",
              "removedWidgets": [],
              "addedWidgets": {},
              "metadata": {},
              "type": "html",
              "arguments": {}
            }
          },
          "data": {
            "text/html": [
              "<style scoped>\n  .ansiout {\n    display: block;\n    unicode-bidi: embed;\n    white-space: pre-wrap;\n    word-wrap: break-word;\n    word-break: break-all;\n    font-family: \"Source Code Pro\", \"Menlo\", monospace;;\n    font-size: 13px;\n    color: #555;\n    margin-left: 4px;\n    line-height: 19px;\n  }\n</style>\n<div class=\"ansiout\">root\n-- Elevation: integer (nullable = true)\n-- Aspect: integer (nullable = true)\n-- Slope: integer (nullable = true)\n-- Horizontal_Distance_To_Hydrology: integer (nullable = true)\n-- Vertical_Distance_To_Hydrology: integer (nullable = true)\n-- Horizontal_Distance_To_Roadways: integer (nullable = true)\n-- Hillshade_9am: integer (nullable = true)\n-- Hillshade_Noon: integer (nullable = true)\n-- Hillshade_3pm: integer (nullable = true)\n-- Horizontal_Distance_To_Fire_Points: integer (nullable = true)\n-- Wilderness_Area: string (nullable = true)\n-- Soil_Type: integer (nullable = true)\n-- Cover_Type: integer (nullable = true)\n\n</div>"
            ]
          }
        }
      ],
      "execution_count": null
    },
    {
      "cell_type": "markdown",
      "source": [
        "We will now display the first three rows of each of the columns to have a quick view of the data."
      ],
      "metadata": {
        "application/vnd.databricks.v1+cell": {
          "title": "",
          "showTitle": false,
          "inputWidgets": {},
          "nuid": "e77eb5e7-90fc-4f7c-b169-f892d9793203"
        },
        "id": "0yql3ZUrixF8"
      }
    },
    {
      "cell_type": "code",
      "source": [
        "fc.select(fc.columns).toPandas().head(3)"
      ],
      "metadata": {
        "application/vnd.databricks.v1+cell": {
          "title": "",
          "showTitle": false,
          "inputWidgets": {},
          "nuid": "39643ff3-1a07-4846-a1b8-1912b68b2f4a"
        },
        "id": "WPHkuBedixF8",
        "outputId": "d7744a30-7b68-4023-a200-8df752aa0de8"
      },
      "outputs": [
        {
          "output_type": "display_data",
          "metadata": {
            "application/vnd.databricks.v1+output": {
              "datasetInfos": [],
              "data": "<div class=\"ansiout\">Out[16]: </div>",
              "removedWidgets": [],
              "addedWidgets": {},
              "metadata": {},
              "type": "html",
              "arguments": {}
            }
          },
          "data": {
            "text/html": [
              "<style scoped>\n  .ansiout {\n    display: block;\n    unicode-bidi: embed;\n    white-space: pre-wrap;\n    word-wrap: break-word;\n    word-break: break-all;\n    font-family: \"Source Code Pro\", \"Menlo\", monospace;;\n    font-size: 13px;\n    color: #555;\n    margin-left: 4px;\n    line-height: 19px;\n  }\n</style>\n<div class=\"ansiout\">Out[16]: </div>"
            ]
          }
        },
        {
          "output_type": "display_data",
          "metadata": {
            "application/vnd.databricks.v1+output": {
              "datasetInfos": [],
              "data": "<div>\n<style scoped>\n    .dataframe tbody tr th:only-of-type {\n        vertical-align: middle;\n    }\n\n    .dataframe tbody tr th {\n        vertical-align: top;\n    }\n\n    .dataframe thead th {\n        text-align: right;\n    }\n</style>\n<table border=\"1\" class=\"dataframe\">\n  <thead>\n    <tr style=\"text-align: right;\">\n      <th></th>\n      <th>Elevation</th>\n      <th>Aspect</th>\n      <th>Slope</th>\n      <th>Horizontal_Distance_To_Hydrology</th>\n      <th>Vertical_Distance_To_Hydrology</th>\n      <th>Horizontal_Distance_To_Roadways</th>\n      <th>Hillshade_9am</th>\n      <th>Hillshade_Noon</th>\n      <th>Hillshade_3pm</th>\n      <th>Horizontal_Distance_To_Fire_Points</th>\n      <th>Wilderness_Area</th>\n      <th>Soil_Type</th>\n      <th>Cover_Type</th>\n    </tr>\n  </thead>\n  <tbody>\n    <tr>\n      <th>0</th>\n      <td>2596</td>\n      <td>51</td>\n      <td>3</td>\n      <td>258</td>\n      <td>0</td>\n      <td>510</td>\n      <td>221</td>\n      <td>232</td>\n      <td>148</td>\n      <td>6279</td>\n      <td>Rawah</td>\n      <td>29</td>\n      <td>5</td>\n    </tr>\n    <tr>\n      <th>1</th>\n      <td>2590</td>\n      <td>56</td>\n      <td>2</td>\n      <td>212</td>\n      <td>-6</td>\n      <td>390</td>\n      <td>220</td>\n      <td>235</td>\n      <td>151</td>\n      <td>6225</td>\n      <td>Rawah</td>\n      <td>29</td>\n      <td>5</td>\n    </tr>\n    <tr>\n      <th>2</th>\n      <td>2804</td>\n      <td>139</td>\n      <td>9</td>\n      <td>268</td>\n      <td>65</td>\n      <td>3180</td>\n      <td>234</td>\n      <td>238</td>\n      <td>135</td>\n      <td>6121</td>\n      <td>Rawah</td>\n      <td>12</td>\n      <td>2</td>\n    </tr>\n  </tbody>\n</table>\n</div>",
              "textData": null,
              "removedWidgets": [],
              "addedWidgets": {},
              "metadata": {},
              "type": "htmlSandbox",
              "arguments": {}
            }
          },
          "data": {
            "text/html": [
              "<div>\n<style scoped>\n    .dataframe tbody tr th:only-of-type {\n        vertical-align: middle;\n    }\n\n    .dataframe tbody tr th {\n        vertical-align: top;\n    }\n\n    .dataframe thead th {\n        text-align: right;\n    }\n</style>\n<table border=\"1\" class=\"dataframe\">\n  <thead>\n    <tr style=\"text-align: right;\">\n      <th></th>\n      <th>Elevation</th>\n      <th>Aspect</th>\n      <th>Slope</th>\n      <th>Horizontal_Distance_To_Hydrology</th>\n      <th>Vertical_Distance_To_Hydrology</th>\n      <th>Horizontal_Distance_To_Roadways</th>\n      <th>Hillshade_9am</th>\n      <th>Hillshade_Noon</th>\n      <th>Hillshade_3pm</th>\n      <th>Horizontal_Distance_To_Fire_Points</th>\n      <th>Wilderness_Area</th>\n      <th>Soil_Type</th>\n      <th>Cover_Type</th>\n    </tr>\n  </thead>\n  <tbody>\n    <tr>\n      <th>0</th>\n      <td>2596</td>\n      <td>51</td>\n      <td>3</td>\n      <td>258</td>\n      <td>0</td>\n      <td>510</td>\n      <td>221</td>\n      <td>232</td>\n      <td>148</td>\n      <td>6279</td>\n      <td>Rawah</td>\n      <td>29</td>\n      <td>5</td>\n    </tr>\n    <tr>\n      <th>1</th>\n      <td>2590</td>\n      <td>56</td>\n      <td>2</td>\n      <td>212</td>\n      <td>-6</td>\n      <td>390</td>\n      <td>220</td>\n      <td>235</td>\n      <td>151</td>\n      <td>6225</td>\n      <td>Rawah</td>\n      <td>29</td>\n      <td>5</td>\n    </tr>\n    <tr>\n      <th>2</th>\n      <td>2804</td>\n      <td>139</td>\n      <td>9</td>\n      <td>268</td>\n      <td>65</td>\n      <td>3180</td>\n      <td>234</td>\n      <td>238</td>\n      <td>135</td>\n      <td>6121</td>\n      <td>Rawah</td>\n      <td>12</td>\n      <td>2</td>\n    </tr>\n  </tbody>\n</table>\n</div>"
            ]
          }
        }
      ],
      "execution_count": null
    },
    {
      "cell_type": "markdown",
      "source": [
        "Here, we will count and print the numbers of observations (rows) in the DataFrame and store it in a variable for future calculation."
      ],
      "metadata": {
        "application/vnd.databricks.v1+cell": {
          "title": "",
          "showTitle": false,
          "inputWidgets": {},
          "nuid": "eb1cb8f4-237b-4de0-afb0-ad38e31630de"
        },
        "id": "Tn3HsfRWixF9"
      }
    },
    {
      "cell_type": "code",
      "source": [
        "N = fc.count()\n",
        "print(N)"
      ],
      "metadata": {
        "application/vnd.databricks.v1+cell": {
          "title": "",
          "showTitle": false,
          "inputWidgets": {},
          "nuid": "94b08818-aae5-41e4-b15f-502c7aa8c3b8"
        },
        "id": "LOqdQb0eixF9",
        "outputId": "96d72dfa-9720-4ac0-da41-a7818cad90e5"
      },
      "outputs": [
        {
          "output_type": "display_data",
          "metadata": {
            "application/vnd.databricks.v1+output": {
              "datasetInfos": [],
              "data": "<div class=\"ansiout\">15120\n</div>",
              "removedWidgets": [],
              "addedWidgets": {},
              "metadata": {},
              "type": "html",
              "arguments": {}
            }
          },
          "data": {
            "text/html": [
              "<style scoped>\n  .ansiout {\n    display: block;\n    unicode-bidi: embed;\n    white-space: pre-wrap;\n    word-wrap: break-word;\n    word-break: break-all;\n    font-family: \"Source Code Pro\", \"Menlo\", monospace;;\n    font-size: 13px;\n    color: #555;\n    margin-left: 4px;\n    line-height: 19px;\n  }\n</style>\n<div class=\"ansiout\">15120\n</div>"
            ]
          }
        }
      ],
      "execution_count": null
    },
    {
      "cell_type": "markdown",
      "source": [
        "Now, we will further explore the data by calculating and displaying the proportion of each of the Cover_Type in the data."
      ],
      "metadata": {
        "application/vnd.databricks.v1+cell": {
          "title": "",
          "showTitle": false,
          "inputWidgets": {},
          "nuid": "2f470573-2203-4044-8600-41dcafd3232d"
        },
        "id": "WpwsWG3DixF9"
      }
    },
    {
      "cell_type": "code",
      "source": [
        "(\n",
        "fc.groupBy('Cover_Type')\n",
        "  .agg(\n",
        "    expr('COUNT(*) as count'),\n",
        "    expr(f'ROUND(COUNT(*)/{N},4) as prop'))\n",
        "  .select('Cover_Type','prop')\n",
        "  .toPandas()\n",
        "  )"
      ],
      "metadata": {
        "application/vnd.databricks.v1+cell": {
          "title": "",
          "showTitle": false,
          "inputWidgets": {},
          "nuid": "5eb82251-efd4-431c-839f-a551aa4090b4"
        },
        "id": "dQHOjNIWixF9",
        "outputId": "60c07791-50a3-47c9-a02c-a9128f1c3034"
      },
      "outputs": [
        {
          "output_type": "display_data",
          "metadata": {
            "application/vnd.databricks.v1+output": {
              "datasetInfos": [],
              "data": "<div class=\"ansiout\">Out[18]: </div>",
              "removedWidgets": [],
              "addedWidgets": {},
              "metadata": {},
              "type": "html",
              "arguments": {}
            }
          },
          "data": {
            "text/html": [
              "<style scoped>\n  .ansiout {\n    display: block;\n    unicode-bidi: embed;\n    white-space: pre-wrap;\n    word-wrap: break-word;\n    word-break: break-all;\n    font-family: \"Source Code Pro\", \"Menlo\", monospace;;\n    font-size: 13px;\n    color: #555;\n    margin-left: 4px;\n    line-height: 19px;\n  }\n</style>\n<div class=\"ansiout\">Out[18]: </div>"
            ]
          }
        },
        {
          "output_type": "display_data",
          "metadata": {
            "application/vnd.databricks.v1+output": {
              "datasetInfos": [],
              "data": "<div>\n<style scoped>\n    .dataframe tbody tr th:only-of-type {\n        vertical-align: middle;\n    }\n\n    .dataframe tbody tr th {\n        vertical-align: top;\n    }\n\n    .dataframe thead th {\n        text-align: right;\n    }\n</style>\n<table border=\"1\" class=\"dataframe\">\n  <thead>\n    <tr style=\"text-align: right;\">\n      <th></th>\n      <th>Cover_Type</th>\n      <th>prop</th>\n    </tr>\n  </thead>\n  <tbody>\n    <tr>\n      <th>0</th>\n      <td>1</td>\n      <td>0.1429</td>\n    </tr>\n    <tr>\n      <th>1</th>\n      <td>6</td>\n      <td>0.1429</td>\n    </tr>\n    <tr>\n      <th>2</th>\n      <td>3</td>\n      <td>0.1429</td>\n    </tr>\n    <tr>\n      <th>3</th>\n      <td>5</td>\n      <td>0.1429</td>\n    </tr>\n    <tr>\n      <th>4</th>\n      <td>4</td>\n      <td>0.1429</td>\n    </tr>\n    <tr>\n      <th>5</th>\n      <td>7</td>\n      <td>0.1429</td>\n    </tr>\n    <tr>\n      <th>6</th>\n      <td>2</td>\n      <td>0.1429</td>\n    </tr>\n  </tbody>\n</table>\n</div>",
              "textData": null,
              "removedWidgets": [],
              "addedWidgets": {},
              "metadata": {},
              "type": "htmlSandbox",
              "arguments": {}
            }
          },
          "data": {
            "text/html": [
              "<div>\n<style scoped>\n    .dataframe tbody tr th:only-of-type {\n        vertical-align: middle;\n    }\n\n    .dataframe tbody tr th {\n        vertical-align: top;\n    }\n\n    .dataframe thead th {\n        text-align: right;\n    }\n</style>\n<table border=\"1\" class=\"dataframe\">\n  <thead>\n    <tr style=\"text-align: right;\">\n      <th></th>\n      <th>Cover_Type</th>\n      <th>prop</th>\n    </tr>\n  </thead>\n  <tbody>\n    <tr>\n      <th>0</th>\n      <td>1</td>\n      <td>0.1429</td>\n    </tr>\n    <tr>\n      <th>1</th>\n      <td>6</td>\n      <td>0.1429</td>\n    </tr>\n    <tr>\n      <th>2</th>\n      <td>3</td>\n      <td>0.1429</td>\n    </tr>\n    <tr>\n      <th>3</th>\n      <td>5</td>\n      <td>0.1429</td>\n    </tr>\n    <tr>\n      <th>4</th>\n      <td>4</td>\n      <td>0.1429</td>\n    </tr>\n    <tr>\n      <th>5</th>\n      <td>7</td>\n      <td>0.1429</td>\n    </tr>\n    <tr>\n      <th>6</th>\n      <td>2</td>\n      <td>0.1429</td>\n    </tr>\n  </tbody>\n</table>\n</div>"
            ]
          }
        }
      ],
      "execution_count": null
    },
    {
      "cell_type": "markdown",
      "source": [
        "## Part C: Preprocessing and Splitting the Data\n",
        "In this part, we will create stages to convert the feature and label variables to appropriate type for analysis. We will then create a preprocessing pipeline to be used for future transformation of similar DataFrame."
      ],
      "metadata": {
        "application/vnd.databricks.v1+cell": {
          "title": "",
          "showTitle": false,
          "inputWidgets": {},
          "nuid": "e85544b4-94e6-4903-92f7-3489c40312fc"
        },
        "id": "ZhI78WxOixF-"
      }
    },
    {
      "cell_type": "markdown",
      "source": [
        "We will start by creating the list of categorical and numerical features and encode/assemble them with StringIndexer, OneHotEncoder, VectorAssembler as needed.   \n",
        "Logistic regression model needs the feature indexing as well as oneHotEncoding of categorical variables while decision tree performs better with feature indexing without oneHotEncoding."
      ],
      "metadata": {
        "application/vnd.databricks.v1+cell": {
          "title": "",
          "showTitle": false,
          "inputWidgets": {},
          "nuid": "f88ed9cd-7785-4bbe-9722-4544affd02dc"
        },
        "id": "NsDSXxczixF-"
      }
    },
    {
      "cell_type": "code",
      "source": [
        "#'Wilderness_Area', 'Soil_Type' are the only categorical variables, rest are the numerical variables in the DataFrame.\n",
        "# Cover_Type is label and is already a numerical variable in this DataFrame\n",
        "\n",
        "cat_features = ['Wilderness_Area', 'Soil_Type']         # Categorical features\n",
        "num_features = [c for c in fc.columns[:-1] if c not in cat_features]    # Numerical features\n",
        "\n",
        "ix_features = [c + '_ix' for c in cat_features]   # create new variables with -ix suffix for feature indexing\n",
        "vec_features = [c + '_vec' for c in cat_features] # create new variables with -vec suffix for oneHot encoding\n",
        "\n",
        "feature_indexer = StringIndexer(inputCols = cat_features, outputCols = ix_features)\n",
        "encoder = OneHotEncoder(inputCols = ix_features, outputCols = vec_features, dropLast = False)\n",
        "\n",
        "assembler_lr = VectorAssembler(inputCols = num_features + vec_features, outputCol = 'features_lr')\n",
        "# takes the numerical and oneHot encoded categorical feature variables as input and transformed to output feature named 'features_lr' for logistic regression model.\n",
        "\n",
        "assembler_dt = VectorAssembler(inputCols = num_features + ix_features, outputCol = 'features_dt')\n",
        "# takes the numerical and indexed feature variables as input and transformed to output feature named 'features_dt' for decision tree model. Decision tree model does not need the categorical featrues to be oneHot encoded.\n"
      ],
      "metadata": {
        "application/vnd.databricks.v1+cell": {
          "title": "",
          "showTitle": false,
          "inputWidgets": {},
          "nuid": "02361285-dd22-48ed-9cb0-e2d1e5583e17"
        },
        "id": "ItmyUx1rixF-",
        "outputId": "66171452-5f8d-498d-b877-26df020d6e40"
      },
      "outputs": [
        {
          "output_type": "display_data",
          "metadata": {
            "application/vnd.databricks.v1+output": {
              "datasetInfos": [],
              "data": "<div class=\"ansiout\"></div>",
              "removedWidgets": [],
              "addedWidgets": {},
              "metadata": {},
              "type": "html",
              "arguments": {}
            }
          },
          "data": {
            "text/html": [
              "<style scoped>\n  .ansiout {\n    display: block;\n    unicode-bidi: embed;\n    white-space: pre-wrap;\n    word-wrap: break-word;\n    word-break: break-all;\n    font-family: \"Source Code Pro\", \"Menlo\", monospace;;\n    font-size: 13px;\n    color: #555;\n    margin-left: 4px;\n    line-height: 19px;\n  }\n</style>\n<div class=\"ansiout\"></div>"
            ]
          }
        }
      ],
      "execution_count": null
    },
    {
      "cell_type": "markdown",
      "source": [
        "We will now create a pipeline from preprocessing stages created above which is then applied to the data for appropriate data transformation."
      ],
      "metadata": {
        "application/vnd.databricks.v1+cell": {
          "title": "",
          "showTitle": false,
          "inputWidgets": {},
          "nuid": "fa449a49-45ce-422f-8346-0cf89886442a"
        },
        "id": "dhy0KAf4ixF-"
      }
    },
    {
      "cell_type": "code",
      "source": [
        "pre_pipe = Pipeline(stages=[feature_indexer, encoder, assembler_lr, assembler_dt]).fit(fc)\n",
        "# data transformed above can be used for both logistic regression and decision tree model as it has feature transformation appropriate for both model.\n",
        "\n",
        "fc_proc = pre_pipe.transform(fc)\n",
        "fc_proc.persist() # persist the ouput for future quick access.\n",
        "fc_proc.select(['features_dt', 'Cover_Type']).toPandas().head(5)"
      ],
      "metadata": {
        "application/vnd.databricks.v1+cell": {
          "title": "",
          "showTitle": false,
          "inputWidgets": {},
          "nuid": "44cbf814-5d97-45da-bcf4-a70bb9413e0a"
        },
        "id": "RlJbKsnBixF-",
        "outputId": "dc81edab-a395-4baf-8265-031d4203df69"
      },
      "outputs": [
        {
          "output_type": "display_data",
          "metadata": {
            "application/vnd.databricks.v1+output": {
              "datasetInfos": [],
              "data": "<div class=\"ansiout\">/databricks/spark/python/pyspark/sql/pandas/conversion.py:92: UserWarning: toPandas attempted Arrow optimization because &#39;spark.sql.execution.arrow.pyspark.enabled&#39; is set to true; however, failed by the reason below:\n  Unable to convert the field features_dt. If this column is not necessary, you may consider dropping it or converting to primitive type before the conversion.\nDirect cause: Unsupported type in conversion to Arrow: VectorUDT\nAttempting non-optimization as &#39;spark.sql.execution.arrow.pyspark.fallback.enabled&#39; is set to true.\n  warnings.warn(msg)\nOut[20]: </div>",
              "removedWidgets": [],
              "addedWidgets": {},
              "metadata": {},
              "type": "html",
              "arguments": {}
            }
          },
          "data": {
            "text/html": [
              "<style scoped>\n  .ansiout {\n    display: block;\n    unicode-bidi: embed;\n    white-space: pre-wrap;\n    word-wrap: break-word;\n    word-break: break-all;\n    font-family: \"Source Code Pro\", \"Menlo\", monospace;;\n    font-size: 13px;\n    color: #555;\n    margin-left: 4px;\n    line-height: 19px;\n  }\n</style>\n<div class=\"ansiout\">/databricks/spark/python/pyspark/sql/pandas/conversion.py:92: UserWarning: toPandas attempted Arrow optimization because &#39;spark.sql.execution.arrow.pyspark.enabled&#39; is set to true; however, failed by the reason below:\n  Unable to convert the field features_dt. If this column is not necessary, you may consider dropping it or converting to primitive type before the conversion.\nDirect cause: Unsupported type in conversion to Arrow: VectorUDT\nAttempting non-optimization as &#39;spark.sql.execution.arrow.pyspark.fallback.enabled&#39; is set to true.\n  warnings.warn(msg)\nOut[20]: </div>"
            ]
          }
        },
        {
          "output_type": "display_data",
          "metadata": {
            "application/vnd.databricks.v1+output": {
              "datasetInfos": [],
              "data": "<div>\n<style scoped>\n    .dataframe tbody tr th:only-of-type {\n        vertical-align: middle;\n    }\n\n    .dataframe tbody tr th {\n        vertical-align: top;\n    }\n\n    .dataframe thead th {\n        text-align: right;\n    }\n</style>\n<table border=\"1\" class=\"dataframe\">\n  <thead>\n    <tr style=\"text-align: right;\">\n      <th></th>\n      <th>features_dt</th>\n      <th>Cover_Type</th>\n    </tr>\n  </thead>\n  <tbody>\n    <tr>\n      <th>0</th>\n      <td>[2596.0, 51.0, 3.0, 258.0, 0.0, 510.0, 221.0, ...</td>\n      <td>5</td>\n    </tr>\n    <tr>\n      <th>1</th>\n      <td>[2590.0, 56.0, 2.0, 212.0, -6.0, 390.0, 220.0,...</td>\n      <td>5</td>\n    </tr>\n    <tr>\n      <th>2</th>\n      <td>[2804.0, 139.0, 9.0, 268.0, 65.0, 3180.0, 234....</td>\n      <td>2</td>\n    </tr>\n    <tr>\n      <th>3</th>\n      <td>[2785.0, 155.0, 18.0, 242.0, 118.0, 3090.0, 23...</td>\n      <td>2</td>\n    </tr>\n    <tr>\n      <th>4</th>\n      <td>[2595.0, 45.0, 2.0, 153.0, -1.0, 391.0, 220.0,...</td>\n      <td>5</td>\n    </tr>\n  </tbody>\n</table>\n</div>",
              "textData": null,
              "removedWidgets": [],
              "addedWidgets": {},
              "metadata": {},
              "type": "htmlSandbox",
              "arguments": {}
            }
          },
          "data": {
            "text/html": [
              "<div>\n<style scoped>\n    .dataframe tbody tr th:only-of-type {\n        vertical-align: middle;\n    }\n\n    .dataframe tbody tr th {\n        vertical-align: top;\n    }\n\n    .dataframe thead th {\n        text-align: right;\n    }\n</style>\n<table border=\"1\" class=\"dataframe\">\n  <thead>\n    <tr style=\"text-align: right;\">\n      <th></th>\n      <th>features_dt</th>\n      <th>Cover_Type</th>\n    </tr>\n  </thead>\n  <tbody>\n    <tr>\n      <th>0</th>\n      <td>[2596.0, 51.0, 3.0, 258.0, 0.0, 510.0, 221.0, ...</td>\n      <td>5</td>\n    </tr>\n    <tr>\n      <th>1</th>\n      <td>[2590.0, 56.0, 2.0, 212.0, -6.0, 390.0, 220.0,...</td>\n      <td>5</td>\n    </tr>\n    <tr>\n      <th>2</th>\n      <td>[2804.0, 139.0, 9.0, 268.0, 65.0, 3180.0, 234....</td>\n      <td>2</td>\n    </tr>\n    <tr>\n      <th>3</th>\n      <td>[2785.0, 155.0, 18.0, 242.0, 118.0, 3090.0, 23...</td>\n      <td>2</td>\n    </tr>\n    <tr>\n      <th>4</th>\n      <td>[2595.0, 45.0, 2.0, 153.0, -1.0, 391.0, 220.0,...</td>\n      <td>5</td>\n    </tr>\n  </tbody>\n</table>\n</div>"
            ]
          }
        }
      ],
      "execution_count": null
    },
    {
      "cell_type": "markdown",
      "source": [
        "We will now randomly split the data into 80:20 as Train and Test data to train our model and then later test the model using out of sample (test) data. We will confirm the split by counting the number of rows in each DataFrame."
      ],
      "metadata": {
        "application/vnd.databricks.v1+cell": {
          "title": "",
          "showTitle": false,
          "inputWidgets": {},
          "nuid": "0a7eeb4e-51b3-477c-9846-b699154bec93"
        },
        "id": "Q4TqrB54ixF-"
      }
    },
    {
      "cell_type": "code",
      "source": [
        "splits = fc_proc.randomSplit([0.8, 0.2], seed=1)\n",
        "train = splits[0]\n",
        "test = splits[1]\n",
        "\n",
        "train.persist()\n",
        "\n",
        "print(f'Training Observations: {train.count()}')\n",
        "print(f'Testing Observations:  {test.count()}')"
      ],
      "metadata": {
        "application/vnd.databricks.v1+cell": {
          "title": "",
          "showTitle": false,
          "inputWidgets": {},
          "nuid": "99c995fd-9668-4922-ad5c-6df7bf1215c3"
        },
        "id": "88h2jkSoixF-",
        "outputId": "407e4968-758d-4b59-ed6f-f416319fc104"
      },
      "outputs": [
        {
          "output_type": "display_data",
          "metadata": {
            "application/vnd.databricks.v1+output": {
              "datasetInfos": [],
              "data": "<div class=\"ansiout\">Training Observations: 12118\nTesting Observations:  3002\n</div>",
              "removedWidgets": [],
              "addedWidgets": {},
              "metadata": {},
              "type": "html",
              "arguments": {}
            }
          },
          "data": {
            "text/html": [
              "<style scoped>\n  .ansiout {\n    display: block;\n    unicode-bidi: embed;\n    white-space: pre-wrap;\n    word-wrap: break-word;\n    word-break: break-all;\n    font-family: \"Source Code Pro\", \"Menlo\", monospace;;\n    font-size: 13px;\n    color: #555;\n    margin-left: 4px;\n    line-height: 19px;\n  }\n</style>\n<div class=\"ansiout\">Training Observations: 12118\nTesting Observations:  3002\n</div>"
            ]
          }
        }
      ],
      "execution_count": null
    },
    {
      "cell_type": "markdown",
      "source": [
        "## Part D: Hyperparameter Tuning for Logistic Regression\n",
        "In this part, we will perform the hyperparameter tuning using accuracy as model performance evaluator and evaluate the logistic regression models thus created."
      ],
      "metadata": {
        "application/vnd.databricks.v1+cell": {
          "title": "",
          "showTitle": false,
          "inputWidgets": {},
          "nuid": "5c4a276f-713f-4bb8-bd4f-8e1f666a6a4d"
        },
        "id": "j4EkzN92ixF-"
      }
    },
    {
      "cell_type": "markdown",
      "source": [
        "We will start by creating an instance of MulticlassClassificationEvaluator to calculate the accuracy metric."
      ],
      "metadata": {
        "application/vnd.databricks.v1+cell": {
          "title": "",
          "showTitle": false,
          "inputWidgets": {},
          "nuid": "54c09caf-58cd-419d-a702-132933d3869e"
        },
        "id": "k2PigMDuixF_"
      }
    },
    {
      "cell_type": "code",
      "source": [
        "accuracy_eval = MulticlassClassificationEvaluator(\n",
        "                            predictionCol = 'prediction',\n",
        "                            labelCol = 'Cover_Type',\n",
        "                            metricName = 'accuracy')"
      ],
      "metadata": {
        "application/vnd.databricks.v1+cell": {
          "title": "",
          "showTitle": false,
          "inputWidgets": {},
          "nuid": "af8568f0-4adf-4ae3-b702-78f838c76f18"
        },
        "id": "r_LHdTyTixF_",
        "outputId": "0ea6cebd-0d24-46dc-ee15-54e844c1add7"
      },
      "outputs": [
        {
          "output_type": "display_data",
          "metadata": {
            "application/vnd.databricks.v1+output": {
              "datasetInfos": [],
              "data": "<div class=\"ansiout\"></div>",
              "removedWidgets": [],
              "addedWidgets": {},
              "metadata": {},
              "type": "html",
              "arguments": {}
            }
          },
          "data": {
            "text/html": [
              "<style scoped>\n  .ansiout {\n    display: block;\n    unicode-bidi: embed;\n    white-space: pre-wrap;\n    word-wrap: break-word;\n    word-break: break-all;\n    font-family: \"Source Code Pro\", \"Menlo\", monospace;;\n    font-size: 13px;\n    color: #555;\n    margin-left: 4px;\n    line-height: 19px;\n  }\n</style>\n<div class=\"ansiout\"></div>"
            ]
          }
        }
      ],
      "execution_count": null
    },
    {
      "cell_type": "markdown",
      "source": [
        "Now, we will create a LogisticRegression instance, create a grid search parameters and then cross validate the models within the below arbitrary search parameters.  \n",
        "  - regParam: 0.00001, 0.0001, 0.001, 0.01, 0.1  \n",
        "  - elasticNetParam: 0, 0.5, 1"
      ],
      "metadata": {
        "application/vnd.databricks.v1+cell": {
          "title": "",
          "showTitle": false,
          "inputWidgets": {},
          "nuid": "bac685da-4671-4ffe-a823-233aa2338440"
        },
        "id": "O6M_54rYixF_"
      }
    },
    {
      "cell_type": "code",
      "source": [
        "logreg = LogisticRegression(featuresCol='features_lr', labelCol='Cover_Type')\n",
        "\n",
        "param_grid = (ParamGridBuilder()\n",
        "              .addGrid(logreg.regParam, [0.00001, 0.0001, 0.001, 0.01, 0.1])\n",
        "              .addGrid(logreg.elasticNetParam, [0, 0.5, 1])\n",
        "             ).build()\n",
        "\n",
        "cv = CrossValidator(estimator=logreg,\n",
        "                    estimatorParamMaps=param_grid,\n",
        "                    evaluator=accuracy_eval,\n",
        "                    numFolds=5,\n",
        "                    seed=1,\n",
        "                    parallelism=8)\n",
        "\n",
        "cv_model = cv.fit(train)"
      ],
      "metadata": {
        "application/vnd.databricks.v1+cell": {
          "title": "",
          "showTitle": false,
          "inputWidgets": {},
          "nuid": "dbbc8d13-6d63-4263-b08f-ae94a63ff42c"
        },
        "id": "hQRdphMZixF_",
        "outputId": "9c975969-1f69-4270-f7fe-a17a59a631a5"
      },
      "outputs": [
        {
          "output_type": "display_data",
          "metadata": {
            "application/vnd.databricks.v1+output": {
              "datasetInfos": [],
              "data": "<div class=\"ansiout\">/databricks/spark/python/pyspark/ml/util.py:838: UserWarning: Cannot find mlflow module. To enable MLflow logging, install mlflow from PyPI.\n  warnings.warn(_MLflowInstrumentation._NO_MLFLOW_WARNING)\n</div>",
              "removedWidgets": [],
              "addedWidgets": {},
              "metadata": {},
              "type": "html",
              "arguments": {}
            }
          },
          "data": {
            "text/html": [
              "<style scoped>\n  .ansiout {\n    display: block;\n    unicode-bidi: embed;\n    white-space: pre-wrap;\n    word-wrap: break-word;\n    word-break: break-all;\n    font-family: \"Source Code Pro\", \"Menlo\", monospace;;\n    font-size: 13px;\n    color: #555;\n    margin-left: 4px;\n    line-height: 19px;\n  }\n</style>\n<div class=\"ansiout\">/databricks/spark/python/pyspark/ml/util.py:838: UserWarning: Cannot find mlflow module. To enable MLflow logging, install mlflow from PyPI.\n  warnings.warn(_MLflowInstrumentation._NO_MLFLOW_WARNING)\n</div>"
            ]
          }
        }
      ],
      "execution_count": null
    },
    {
      "cell_type": "markdown",
      "source": [
        "Now, we will identify the optimal model under the grid search parameters above and calculate the CV Score, Lambda and Alpha of the optimal model."
      ],
      "metadata": {
        "application/vnd.databricks.v1+cell": {
          "title": "",
          "showTitle": false,
          "inputWidgets": {},
          "nuid": "85778f68-981b-41cb-9c7a-0728f663f96f"
        },
        "id": "n18eg9OvixF_"
      }
    },
    {
      "cell_type": "code",
      "source": [
        "lr_model = cv_model.bestModel\n",
        "opt_regParam = lr_model.getRegParam()\n",
        "opt_enetParam = lr_model.getElasticNetParam()\n",
        "\n",
        "print('Max CV Score: ', round(max(cv_model.avgMetrics),4))\n",
        "print('Optimal Lambda: ', opt_regParam)\n",
        "print('Optimal Alpha: ', opt_enetParam)"
      ],
      "metadata": {
        "application/vnd.databricks.v1+cell": {
          "title": "",
          "showTitle": false,
          "inputWidgets": {},
          "nuid": "c41d22b1-bca8-4762-a6da-5b21326ec42f"
        },
        "id": "_d0KXAuVixF_",
        "outputId": "59cc4a7d-8692-4653-a97d-7808428a462d"
      },
      "outputs": [
        {
          "output_type": "display_data",
          "metadata": {
            "application/vnd.databricks.v1+output": {
              "datasetInfos": [],
              "data": "<div class=\"ansiout\">Max CV Score:  0.6741\nOptimal Lambda:  1e-05\nOptimal Alpha:  0.0\n</div>",
              "removedWidgets": [],
              "addedWidgets": {},
              "metadata": {},
              "type": "html",
              "arguments": {}
            }
          },
          "data": {
            "text/html": [
              "<style scoped>\n  .ansiout {\n    display: block;\n    unicode-bidi: embed;\n    white-space: pre-wrap;\n    word-wrap: break-word;\n    word-break: break-all;\n    font-family: \"Source Code Pro\", \"Menlo\", monospace;;\n    font-size: 13px;\n    color: #555;\n    margin-left: 4px;\n    line-height: 19px;\n  }\n</style>\n<div class=\"ansiout\">Max CV Score:  0.6741\nOptimal Lambda:  1e-05\nOptimal Alpha:  0.0\n</div>"
            ]
          }
        }
      ],
      "execution_count": null
    },
    {
      "cell_type": "markdown",
      "source": [
        "Here, we will show the CV Scores vs regularization parameters within the gridsearch parameters using the line plots to display how they change and also to visually display the optimal model parameters."
      ],
      "metadata": {
        "application/vnd.databricks.v1+cell": {
          "title": "",
          "showTitle": false,
          "inputWidgets": {},
          "nuid": "300dd2bf-c77b-437a-a025-24000d7909de"
        },
        "id": "jNkv5XYaixGA"
      }
    },
    {
      "cell_type": "code",
      "source": [
        "model_params = cv_model.getEstimatorParamMaps()\n",
        "\n",
        "lr_cv_summary_list = []\n",
        "\n",
        "for param_set, acc in zip(model_params, cv_model.avgMetrics):\n",
        "  new_set = list(param_set.values()) + [acc]\n",
        "  lr_cv_summary_list.append(new_set)\n",
        "\n",
        "cv_summary = pd.DataFrame(lr_cv_summary_list, columns=['reg_param', 'enet_param', 'acc'])\n",
        "\n",
        "for en in cv_summary.enet_param.unique():\n",
        "  sel = cv_summary.enet_param == en\n",
        "  plt.plot(cv_summary.reg_param[sel], cv_summary.acc[sel], label=en)\n",
        "  plt.scatter(cv_summary.reg_param[sel], cv_summary.acc[sel])\n",
        "\n",
        "plt.legend()\n",
        "plt.xscale('log')\n",
        "plt.grid()\n",
        "plt.xlabel('Regularization Parameter')\n",
        "plt.ylabel('Cross-Validation Score')\n",
        "plt.show()"
      ],
      "metadata": {
        "application/vnd.databricks.v1+cell": {
          "title": "",
          "showTitle": false,
          "inputWidgets": {},
          "nuid": "246eb8a5-63e5-4c79-b948-1148ba70f9d6"
        },
        "id": "gMFiUQIfixGA",
        "outputId": "7b893c79-3eb7-49d8-bd39-8970b86d9a35"
      },
      "outputs": [
        {
          "output_type": "display_data",
          "metadata": {
            "application/vnd.databricks.v1+output": {
              "datasetInfos": [],
              "data": "/plots/4fc8683e-7b0e-4d19-a71a-637480d80212.png",
              "removedWidgets": [],
              "addedWidgets": {},
              "metadata": {},
              "type": "image",
              "arguments": {}
            }
          },
          "data": {
            "image/png": "[encoded data removed]"
          }
        }
      ],
      "execution_count": null
    },
    {
      "cell_type": "markdown",
      "source": [
        "##Part E: Hyperparameter Tuning for Decision Trees\n",
        "In this part, we will perform the hyperparameter tuning using accuracy as model performance evaluator and evaluate the Decision Tree models thus created."
      ],
      "metadata": {
        "application/vnd.databricks.v1+cell": {
          "title": "",
          "showTitle": false,
          "inputWidgets": {},
          "nuid": "69690e72-ffcb-4095-8876-3cab012eec65"
        },
        "id": "_0eE37NCixGA"
      }
    },
    {
      "cell_type": "markdown",
      "source": [
        "We will start by creating a DecisionTreeClassifier instance, create a grid search parameters and then cross validate the models within the arbitrary search parameters below.  \n",
        "  - maxDepth: 4, 6, 8, 10, 12, 14, 16, 18, 20, 22, 24  \n",
        "  - minInstancesPerNode: 1, 2, 4"
      ],
      "metadata": {
        "application/vnd.databricks.v1+cell": {
          "title": "",
          "showTitle": false,
          "inputWidgets": {},
          "nuid": "19c5bd79-c617-4908-aa3b-3455e90ed993"
        },
        "id": "8JMPB1NvixGA"
      }
    },
    {
      "cell_type": "code",
      "source": [
        "dtree = DecisionTreeClassifier(featuresCol='features_dt', labelCol='Cover_Type', seed=1, maxBins = 38)\n",
        "\n",
        "param_grid = (ParamGridBuilder()\n",
        "              .addGrid(dtree.maxDepth, [4, 6, 8, 10, 12, 14, 16, 18, 20, 22, 24])\n",
        "              .addGrid(dtree.minInstancesPerNode, [1, 2, 4])\n",
        "             ).build()\n",
        "\n",
        "cv = CrossValidator(estimator=dtree,\n",
        "                    estimatorParamMaps=param_grid,\n",
        "                    numFolds=5,\n",
        "                    evaluator=accuracy_eval,\n",
        "                    seed=1,\n",
        "                    parallelism=6)\n",
        "\n",
        "cv_model = cv.fit(train)\n"
      ],
      "metadata": {
        "application/vnd.databricks.v1+cell": {
          "title": "",
          "showTitle": false,
          "inputWidgets": {},
          "nuid": "64a04385-dc7f-43db-b5b9-bd70718fc96b"
        },
        "id": "G4-wu4UWixGA",
        "outputId": "a256ac7b-3a42-4b29-9fdd-91ea1001cfee"
      },
      "outputs": [
        {
          "output_type": "display_data",
          "metadata": {
            "application/vnd.databricks.v1+output": {
              "datasetInfos": [],
              "data": "<div class=\"ansiout\">/databricks/spark/python/pyspark/ml/util.py:838: UserWarning: Cannot find mlflow module. To enable MLflow logging, install mlflow from PyPI.\n  warnings.warn(_MLflowInstrumentation._NO_MLFLOW_WARNING)\n</div>",
              "removedWidgets": [],
              "addedWidgets": {},
              "metadata": {},
              "type": "html",
              "arguments": {}
            }
          },
          "data": {
            "text/html": [
              "<style scoped>\n  .ansiout {\n    display: block;\n    unicode-bidi: embed;\n    white-space: pre-wrap;\n    word-wrap: break-word;\n    word-break: break-all;\n    font-family: \"Source Code Pro\", \"Menlo\", monospace;;\n    font-size: 13px;\n    color: #555;\n    margin-left: 4px;\n    line-height: 19px;\n  }\n</style>\n<div class=\"ansiout\">/databricks/spark/python/pyspark/ml/util.py:838: UserWarning: Cannot find mlflow module. To enable MLflow logging, install mlflow from PyPI.\n  warnings.warn(_MLflowInstrumentation._NO_MLFLOW_WARNING)\n</div>"
            ]
          }
        }
      ],
      "execution_count": null
    },
    {
      "cell_type": "markdown",
      "source": [
        "Now, we will identify the optimal model under the grid search parameters above and calculate the CV Score, Lambda and Alpha of the optimal model."
      ],
      "metadata": {
        "application/vnd.databricks.v1+cell": {
          "title": "",
          "showTitle": false,
          "inputWidgets": {},
          "nuid": "0382a168-e0c1-4251-b199-05572960dd49"
        },
        "id": "XfC21HszixGB"
      }
    },
    {
      "cell_type": "code",
      "source": [
        "dt_model = cv_model.bestModel\n",
        "opt_maxDepth = dt_model.getMaxDepth()\n",
        "opt_minInstancesPerNode = dt_model.getMinInstancesPerNode()\n",
        "\n",
        "print('Max CV Score:   ', round(max(cv_model.avgMetrics),4))\n",
        "print('Optimal Depth:  ', opt_maxDepth)\n",
        "print('Optimal MinInst:', opt_minInstancesPerNode)"
      ],
      "metadata": {
        "application/vnd.databricks.v1+cell": {
          "title": "",
          "showTitle": false,
          "inputWidgets": {},
          "nuid": "f77a2327-f127-48ff-b4a0-8e250cbeb7ad"
        },
        "id": "GKEHSVJpixGB",
        "outputId": "e1cd3014-c4a0-442a-f93c-38a4c00367e0"
      },
      "outputs": [
        {
          "output_type": "display_data",
          "metadata": {
            "application/vnd.databricks.v1+output": {
              "datasetInfos": [],
              "data": "<div class=\"ansiout\">Max CV Score:    0.7775\nOptimal Depth:   16\nOptimal MinInst: 1\n</div>",
              "removedWidgets": [],
              "addedWidgets": {},
              "metadata": {},
              "type": "html",
              "arguments": {}
            }
          },
          "data": {
            "text/html": [
              "<style scoped>\n  .ansiout {\n    display: block;\n    unicode-bidi: embed;\n    white-space: pre-wrap;\n    word-wrap: break-word;\n    word-break: break-all;\n    font-family: \"Source Code Pro\", \"Menlo\", monospace;;\n    font-size: 13px;\n    color: #555;\n    margin-left: 4px;\n    line-height: 19px;\n  }\n</style>\n<div class=\"ansiout\">Max CV Score:    0.7775\nOptimal Depth:   16\nOptimal MinInst: 1\n</div>"
            ]
          }
        }
      ],
      "execution_count": null
    },
    {
      "cell_type": "markdown",
      "source": [
        "Here, we will show the CV Scores vs regularization parameters within the gridsearch parameters using line plots to display how they change and also to visually display the optimal model parameters."
      ],
      "metadata": {
        "application/vnd.databricks.v1+cell": {
          "title": "",
          "showTitle": false,
          "inputWidgets": {},
          "nuid": "2b513048-e6d3-4f11-8b92-5acee9d9fc8b"
        },
        "id": "ZowLLFsbixGB"
      }
    },
    {
      "cell_type": "code",
      "source": [
        "model_params = cv_model.getEstimatorParamMaps()\n",
        "\n",
        "dt_cv_summary_list = []\n",
        "for param_set, acc in zip(model_params, cv_model.avgMetrics):\n",
        "  new_set = list(param_set.values()) + [acc]\n",
        "  dt_cv_summary_list.append(new_set)\n",
        "\n",
        "cv_summary = pd.DataFrame(dt_cv_summary_list, columns=['maxDepth', 'minInst', 'acc'])\n",
        "\n",
        "for mi in cv_summary.minInst.unique():\n",
        "  sel = cv_summary.minInst == mi\n",
        "  plt.plot(cv_summary.maxDepth[sel], cv_summary.acc[sel], label=mi)\n",
        "  plt.scatter(cv_summary.maxDepth[sel], cv_summary.acc[sel])\n",
        "\n",
        "plt.legend()\n",
        "plt.grid()\n",
        "plt.xticks(range(4,26,2))\n",
        "plt.xlabel('Max Depth')\n",
        "plt.ylabel('Cross-Validation Score')\n",
        "plt.show()"
      ],
      "metadata": {
        "application/vnd.databricks.v1+cell": {
          "title": "",
          "showTitle": false,
          "inputWidgets": {},
          "nuid": "1bf420ad-833d-42ac-a063-75a52d837856"
        },
        "id": "EDCw-b3hixGB",
        "outputId": "28b46fb4-39c4-40d7-bcf6-b27560e384a2"
      },
      "outputs": [
        {
          "output_type": "display_data",
          "metadata": {
            "application/vnd.databricks.v1+output": {
              "datasetInfos": [],
              "data": "/plots/e33d6dae-ab7d-4026-979b-9488c783892b.png",
              "removedWidgets": [],
              "addedWidgets": {},
              "metadata": {},
              "type": "image",
              "arguments": {}
            }
          },
          "data": {
            "image/png": "[encoded data removed]"
          }
        }
      ],
      "execution_count": null
    },
    {
      "cell_type": "markdown",
      "source": [
        "Now, we will calculate and display each of the features and their importance as evaluated by optimal decision tree model."
      ],
      "metadata": {
        "application/vnd.databricks.v1+cell": {
          "title": "",
          "showTitle": false,
          "inputWidgets": {},
          "nuid": "188ea45a-04ef-4f12-bdc8-cd66e68a3f7f"
        },
        "id": "IPSP_KNVixGB"
      }
    },
    {
      "cell_type": "code",
      "source": [
        "features_dt = num_features + cat_features\n",
        "\n",
        "pd.DataFrame({\n",
        "    'feature':features_dt,\n",
        "    'importance':dt_model.featureImportances\n",
        "         })"
      ],
      "metadata": {
        "application/vnd.databricks.v1+cell": {
          "title": "",
          "showTitle": false,
          "inputWidgets": {},
          "nuid": "401d3687-0b06-40db-9a54-3748798b3a36"
        },
        "id": "jmJDXyWQixGC",
        "outputId": "525c9cb4-1833-4417-d49d-25795bc0fc9b"
      },
      "outputs": [
        {
          "output_type": "display_data",
          "metadata": {
            "application/vnd.databricks.v1+output": {
              "datasetInfos": [],
              "data": "<div class=\"ansiout\">Out[29]: </div>",
              "removedWidgets": [],
              "addedWidgets": {},
              "metadata": {},
              "type": "html",
              "arguments": {}
            }
          },
          "data": {
            "text/html": [
              "<style scoped>\n  .ansiout {\n    display: block;\n    unicode-bidi: embed;\n    white-space: pre-wrap;\n    word-wrap: break-word;\n    word-break: break-all;\n    font-family: \"Source Code Pro\", \"Menlo\", monospace;;\n    font-size: 13px;\n    color: #555;\n    margin-left: 4px;\n    line-height: 19px;\n  }\n</style>\n<div class=\"ansiout\">Out[29]: </div>"
            ]
          }
        },
        {
          "output_type": "display_data",
          "metadata": {
            "application/vnd.databricks.v1+output": {
              "datasetInfos": [],
              "data": "<div>\n<style scoped>\n    .dataframe tbody tr th:only-of-type {\n        vertical-align: middle;\n    }\n\n    .dataframe tbody tr th {\n        vertical-align: top;\n    }\n\n    .dataframe thead th {\n        text-align: right;\n    }\n</style>\n<table border=\"1\" class=\"dataframe\">\n  <thead>\n    <tr style=\"text-align: right;\">\n      <th></th>\n      <th>feature</th>\n      <th>importance</th>\n    </tr>\n  </thead>\n  <tbody>\n    <tr>\n      <th>0</th>\n      <td>Elevation</td>\n      <td>0.394260</td>\n    </tr>\n    <tr>\n      <th>1</th>\n      <td>Aspect</td>\n      <td>0.048116</td>\n    </tr>\n    <tr>\n      <th>2</th>\n      <td>Slope</td>\n      <td>0.026453</td>\n    </tr>\n    <tr>\n      <th>3</th>\n      <td>Horizontal_Distance_To_Hydrology</td>\n      <td>0.078278</td>\n    </tr>\n    <tr>\n      <th>4</th>\n      <td>Vertical_Distance_To_Hydrology</td>\n      <td>0.036748</td>\n    </tr>\n    <tr>\n      <th>5</th>\n      <td>Horizontal_Distance_To_Roadways</td>\n      <td>0.070875</td>\n    </tr>\n    <tr>\n      <th>6</th>\n      <td>Hillshade_9am</td>\n      <td>0.025840</td>\n    </tr>\n    <tr>\n      <th>7</th>\n      <td>Hillshade_Noon</td>\n      <td>0.023199</td>\n    </tr>\n    <tr>\n      <th>8</th>\n      <td>Hillshade_3pm</td>\n      <td>0.017314</td>\n    </tr>\n    <tr>\n      <th>9</th>\n      <td>Horizontal_Distance_To_Fire_Points</td>\n      <td>0.079365</td>\n    </tr>\n    <tr>\n      <th>10</th>\n      <td>Wilderness_Area</td>\n      <td>0.057567</td>\n    </tr>\n    <tr>\n      <th>11</th>\n      <td>Soil_Type</td>\n      <td>0.141985</td>\n    </tr>\n  </tbody>\n</table>\n</div>",
              "textData": null,
              "removedWidgets": [],
              "addedWidgets": {},
              "metadata": {},
              "type": "htmlSandbox",
              "arguments": {}
            }
          },
          "data": {
            "text/html": [
              "<div>\n<style scoped>\n    .dataframe tbody tr th:only-of-type {\n        vertical-align: middle;\n    }\n\n    .dataframe tbody tr th {\n        vertical-align: top;\n    }\n\n    .dataframe thead th {\n        text-align: right;\n    }\n</style>\n<table border=\"1\" class=\"dataframe\">\n  <thead>\n    <tr style=\"text-align: right;\">\n      <th></th>\n      <th>feature</th>\n      <th>importance</th>\n    </tr>\n  </thead>\n  <tbody>\n    <tr>\n      <th>0</th>\n      <td>Elevation</td>\n      <td>0.394260</td>\n    </tr>\n    <tr>\n      <th>1</th>\n      <td>Aspect</td>\n      <td>0.048116</td>\n    </tr>\n    <tr>\n      <th>2</th>\n      <td>Slope</td>\n      <td>0.026453</td>\n    </tr>\n    <tr>\n      <th>3</th>\n      <td>Horizontal_Distance_To_Hydrology</td>\n      <td>0.078278</td>\n    </tr>\n    <tr>\n      <th>4</th>\n      <td>Vertical_Distance_To_Hydrology</td>\n      <td>0.036748</td>\n    </tr>\n    <tr>\n      <th>5</th>\n      <td>Horizontal_Distance_To_Roadways</td>\n      <td>0.070875</td>\n    </tr>\n    <tr>\n      <th>6</th>\n      <td>Hillshade_9am</td>\n      <td>0.025840</td>\n    </tr>\n    <tr>\n      <th>7</th>\n      <td>Hillshade_Noon</td>\n      <td>0.023199</td>\n    </tr>\n    <tr>\n      <th>8</th>\n      <td>Hillshade_3pm</td>\n      <td>0.017314</td>\n    </tr>\n    <tr>\n      <th>9</th>\n      <td>Horizontal_Distance_To_Fire_Points</td>\n      <td>0.079365</td>\n    </tr>\n    <tr>\n      <th>10</th>\n      <td>Wilderness_Area</td>\n      <td>0.057567</td>\n    </tr>\n    <tr>\n      <th>11</th>\n      <td>Soil_Type</td>\n      <td>0.141985</td>\n    </tr>\n  </tbody>\n</table>\n</div>"
            ]
          }
        }
      ],
      "execution_count": null
    },
    {
      "cell_type": "markdown",
      "source": [
        "## Part F: Identifying and Evaluating the Final Model\n",
        "In this part, we will compare the optimal logistic regression and optimal decision tree model to identify the best model between them. We will then evaluate the best model's performance with out of sample (test) data."
      ],
      "metadata": {
        "application/vnd.databricks.v1+cell": {
          "title": "",
          "showTitle": false,
          "inputWidgets": {},
          "nuid": "dfc5ca8c-2012-493e-9531-0caa3e1f006a"
        },
        "id": "OP9C3pCwixGC"
      }
    },
    {
      "cell_type": "markdown",
      "source": [
        "The optimal logistic regression model (lr_model) has cross validation score (5 fold) of 0.6739 while the same for optimal decision tree model (dt_model) is 0.7775 using the train data. This means that ,based on the cross validation score, optimal decision tree model (dt_model) predicted correctly about 77.8% of time while optimal logistic regression model predicted correctly only about 63.4% of time with the train data.  \n",
        "As decision tree model performed better than logistic regression model, we will use decision tree model for future prediction."
      ],
      "metadata": {
        "application/vnd.databricks.v1+cell": {
          "title": "",
          "showTitle": false,
          "inputWidgets": {},
          "nuid": "f1386d3d-d82a-4fd2-84f1-e870c81a7e19"
        },
        "id": "MJJqhXimixGC"
      }
    },
    {
      "cell_type": "markdown",
      "source": [
        "Let's use the optimal decision tree model as determined above to predict the label of test data and show the first 10 rows of probability, prediction, and actual label value (Cover_Type)."
      ],
      "metadata": {
        "application/vnd.databricks.v1+cell": {
          "title": "",
          "showTitle": false,
          "inputWidgets": {},
          "nuid": "7db6d268-531d-4102-8caa-3e9e7c046694"
        },
        "id": "PVOhtHDhixGC"
      }
    },
    {
      "cell_type": "code",
      "source": [
        "test_pred = dt_model.transform(test)\n",
        "test_pred.select('probability', 'prediction', 'Cover_Type').toPandas().head(10)"
      ],
      "metadata": {
        "application/vnd.databricks.v1+cell": {
          "title": "",
          "showTitle": false,
          "inputWidgets": {},
          "nuid": "8d5b2a02-de17-4b26-bd4c-3a622db9bceb"
        },
        "id": "2c_TJMWyixGC",
        "outputId": "0da1bcf9-5648-49c4-e8b1-3ba77c53906b"
      },
      "outputs": [
        {
          "output_type": "display_data",
          "metadata": {
            "application/vnd.databricks.v1+output": {
              "datasetInfos": [],
              "data": "<div class=\"ansiout\">/databricks/spark/python/pyspark/sql/pandas/conversion.py:92: UserWarning: toPandas attempted Arrow optimization because &#39;spark.sql.execution.arrow.pyspark.enabled&#39; is set to true; however, failed by the reason below:\n  Unable to convert the field probability. If this column is not necessary, you may consider dropping it or converting to primitive type before the conversion.\nDirect cause: Unsupported type in conversion to Arrow: VectorUDT\nAttempting non-optimization as &#39;spark.sql.execution.arrow.pyspark.fallback.enabled&#39; is set to true.\n  warnings.warn(msg)\nOut[30]: </div>",
              "removedWidgets": [],
              "addedWidgets": {},
              "metadata": {},
              "type": "html",
              "arguments": {}
            }
          },
          "data": {
            "text/html": [
              "<style scoped>\n  .ansiout {\n    display: block;\n    unicode-bidi: embed;\n    white-space: pre-wrap;\n    word-wrap: break-word;\n    word-break: break-all;\n    font-family: \"Source Code Pro\", \"Menlo\", monospace;;\n    font-size: 13px;\n    color: #555;\n    margin-left: 4px;\n    line-height: 19px;\n  }\n</style>\n<div class=\"ansiout\">/databricks/spark/python/pyspark/sql/pandas/conversion.py:92: UserWarning: toPandas attempted Arrow optimization because &#39;spark.sql.execution.arrow.pyspark.enabled&#39; is set to true; however, failed by the reason below:\n  Unable to convert the field probability. If this column is not necessary, you may consider dropping it or converting to primitive type before the conversion.\nDirect cause: Unsupported type in conversion to Arrow: VectorUDT\nAttempting non-optimization as &#39;spark.sql.execution.arrow.pyspark.fallback.enabled&#39; is set to true.\n  warnings.warn(msg)\nOut[30]: </div>"
            ]
          }
        },
        {
          "output_type": "display_data",
          "metadata": {
            "application/vnd.databricks.v1+output": {
              "datasetInfos": [],
              "data": "<div>\n<style scoped>\n    .dataframe tbody tr th:only-of-type {\n        vertical-align: middle;\n    }\n\n    .dataframe tbody tr th {\n        vertical-align: top;\n    }\n\n    .dataframe thead th {\n        text-align: right;\n    }\n</style>\n<table border=\"1\" class=\"dataframe\">\n  <thead>\n    <tr style=\"text-align: right;\">\n      <th></th>\n      <th>probability</th>\n      <th>prediction</th>\n      <th>Cover_Type</th>\n    </tr>\n  </thead>\n  <tbody>\n    <tr>\n      <th>0</th>\n      <td>[0.0, 0.0, 0.0, 0.0, 0.0, 0.0, 1.0, 0.0]</td>\n      <td>6.0</td>\n      <td>6</td>\n    </tr>\n    <tr>\n      <th>1</th>\n      <td>[0.0, 0.0, 0.0273972602739726, 0.3150684931506...</td>\n      <td>6.0</td>\n      <td>6</td>\n    </tr>\n    <tr>\n      <th>2</th>\n      <td>[0.0, 0.0, 0.0, 0.0, 0.0, 0.0, 1.0, 0.0]</td>\n      <td>6.0</td>\n      <td>6</td>\n    </tr>\n    <tr>\n      <th>3</th>\n      <td>[0.0, 0.0, 0.0, 1.0, 0.0, 0.0, 0.0, 0.0]</td>\n      <td>3.0</td>\n      <td>3</td>\n    </tr>\n    <tr>\n      <th>4</th>\n      <td>[0.0, 0.0, 0.0, 0.09375, 0.0, 0.0, 0.90625, 0.0]</td>\n      <td>6.0</td>\n      <td>6</td>\n    </tr>\n    <tr>\n      <th>5</th>\n      <td>[0.0, 0.0, 0.0, 1.0, 0.0, 0.0, 0.0, 0.0]</td>\n      <td>3.0</td>\n      <td>3</td>\n    </tr>\n    <tr>\n      <th>6</th>\n      <td>[0.0, 0.0, 0.0, 1.0, 0.0, 0.0, 0.0, 0.0]</td>\n      <td>3.0</td>\n      <td>6</td>\n    </tr>\n    <tr>\n      <th>7</th>\n      <td>[0.0, 0.0, 0.0, 1.0, 0.0, 0.0, 0.0, 0.0]</td>\n      <td>3.0</td>\n      <td>3</td>\n    </tr>\n    <tr>\n      <th>8</th>\n      <td>[0.0, 0.0, 0.0, 0.0, 0.0, 0.0, 1.0, 0.0]</td>\n      <td>6.0</td>\n      <td>3</td>\n    </tr>\n    <tr>\n      <th>9</th>\n      <td>[0.0, 0.0, 0.0, 0.0, 0.0, 0.0, 1.0, 0.0]</td>\n      <td>6.0</td>\n      <td>6</td>\n    </tr>\n  </tbody>\n</table>\n</div>",
              "textData": null,
              "removedWidgets": [],
              "addedWidgets": {},
              "metadata": {},
              "type": "htmlSandbox",
              "arguments": {}
            }
          },
          "data": {
            "text/html": [
              "<div>\n<style scoped>\n    .dataframe tbody tr th:only-of-type {\n        vertical-align: middle;\n    }\n\n    .dataframe tbody tr th {\n        vertical-align: top;\n    }\n\n    .dataframe thead th {\n        text-align: right;\n    }\n</style>\n<table border=\"1\" class=\"dataframe\">\n  <thead>\n    <tr style=\"text-align: right;\">\n      <th></th>\n      <th>probability</th>\n      <th>prediction</th>\n      <th>Cover_Type</th>\n    </tr>\n  </thead>\n  <tbody>\n    <tr>\n      <th>0</th>\n      <td>[0.0, 0.0, 0.0, 0.0, 0.0, 0.0, 1.0, 0.0]</td>\n      <td>6.0</td>\n      <td>6</td>\n    </tr>\n    <tr>\n      <th>1</th>\n      <td>[0.0, 0.0, 0.0273972602739726, 0.3150684931506...</td>\n      <td>6.0</td>\n      <td>6</td>\n    </tr>\n    <tr>\n      <th>2</th>\n      <td>[0.0, 0.0, 0.0, 0.0, 0.0, 0.0, 1.0, 0.0]</td>\n      <td>6.0</td>\n      <td>6</td>\n    </tr>\n    <tr>\n      <th>3</th>\n      <td>[0.0, 0.0, 0.0, 1.0, 0.0, 0.0, 0.0, 0.0]</td>\n      <td>3.0</td>\n      <td>3</td>\n    </tr>\n    <tr>\n      <th>4</th>\n      <td>[0.0, 0.0, 0.0, 0.09375, 0.0, 0.0, 0.90625, 0.0]</td>\n      <td>6.0</td>\n      <td>6</td>\n    </tr>\n    <tr>\n      <th>5</th>\n      <td>[0.0, 0.0, 0.0, 1.0, 0.0, 0.0, 0.0, 0.0]</td>\n      <td>3.0</td>\n      <td>3</td>\n    </tr>\n    <tr>\n      <th>6</th>\n      <td>[0.0, 0.0, 0.0, 1.0, 0.0, 0.0, 0.0, 0.0]</td>\n      <td>3.0</td>\n      <td>6</td>\n    </tr>\n    <tr>\n      <th>7</th>\n      <td>[0.0, 0.0, 0.0, 1.0, 0.0, 0.0, 0.0, 0.0]</td>\n      <td>3.0</td>\n      <td>3</td>\n    </tr>\n    <tr>\n      <th>8</th>\n      <td>[0.0, 0.0, 0.0, 0.0, 0.0, 0.0, 1.0, 0.0]</td>\n      <td>6.0</td>\n      <td>3</td>\n    </tr>\n    <tr>\n      <th>9</th>\n      <td>[0.0, 0.0, 0.0, 0.0, 0.0, 0.0, 1.0, 0.0]</td>\n      <td>6.0</td>\n      <td>6</td>\n    </tr>\n  </tbody>\n</table>\n</div>"
            ]
          }
        }
      ],
      "execution_count": null
    },
    {
      "cell_type": "markdown",
      "source": [
        "Now, we will calculate the accuracy of the optimal model selected above using out of sample (test) data.     \n",
        "As calculated below, the accuracy value seems to be close to what it was with train data."
      ],
      "metadata": {
        "application/vnd.databricks.v1+cell": {
          "title": "",
          "showTitle": false,
          "inputWidgets": {},
          "nuid": "af155fa5-9694-4cbe-8472-240b9d8bb757"
        },
        "id": "tnsR0X2nixGC"
      }
    },
    {
      "cell_type": "code",
      "source": [
        "pred_and_labels = test_pred.rdd.map(lambda x:(x['prediction'],float(x['Cover_Type'])))\n",
        "metrics = MulticlassMetrics(pred_and_labels)\n",
        "print(f'Test Set Accuracy: {round(metrics.accuracy,4)}')"
      ],
      "metadata": {
        "application/vnd.databricks.v1+cell": {
          "title": "",
          "showTitle": false,
          "inputWidgets": {},
          "nuid": "936e448c-40d9-4e8b-be85-b76f2d19d638"
        },
        "id": "fPexYkzWixGD",
        "outputId": "25b71632-b1af-46a9-d552-75c7c63177ce"
      },
      "outputs": [
        {
          "output_type": "display_data",
          "metadata": {
            "application/vnd.databricks.v1+output": {
              "datasetInfos": [],
              "data": "<div class=\"ansiout\">Test Set Accuracy: 0.7818\n</div>",
              "removedWidgets": [],
              "addedWidgets": {},
              "metadata": {},
              "type": "html",
              "arguments": {}
            }
          },
          "data": {
            "text/html": [
              "<style scoped>\n  .ansiout {\n    display: block;\n    unicode-bidi: embed;\n    white-space: pre-wrap;\n    word-wrap: break-word;\n    word-break: break-all;\n    font-family: \"Source Code Pro\", \"Menlo\", monospace;;\n    font-size: 13px;\n    color: #555;\n    margin-left: 4px;\n    line-height: 19px;\n  }\n</style>\n<div class=\"ansiout\">Test Set Accuracy: 0.7818\n</div>"
            ]
          }
        }
      ],
      "execution_count": null
    },
    {
      "cell_type": "markdown",
      "source": [
        "Now, let's build and display the confusion matrix."
      ],
      "metadata": {
        "application/vnd.databricks.v1+cell": {
          "title": "",
          "showTitle": false,
          "inputWidgets": {},
          "nuid": "2b4f0b2e-feac-4998-a5a2-fb5298e28cd3"
        },
        "id": "LP54BmmvixGD"
      }
    },
    {
      "cell_type": "code",
      "source": [
        "labels = Cover_Type = ['1','2', '3', '4', '5', '6', '7']\n",
        "\n",
        "cm = metrics.confusionMatrix().toArray().astype(int)\n",
        "pd.DataFrame(\n",
        "    data=cm,\n",
        "    columns= Cover_Type,\n",
        "    index= Cover_Type\n",
        "      )"
      ],
      "metadata": {
        "application/vnd.databricks.v1+cell": {
          "title": "",
          "showTitle": false,
          "inputWidgets": {},
          "nuid": "57121376-b629-426a-a529-faf4e0830fef"
        },
        "id": "2fnXMXphixGD",
        "outputId": "af5e4a47-b0cd-47c4-a58a-c249cf0a9668"
      },
      "outputs": [
        {
          "output_type": "display_data",
          "metadata": {
            "application/vnd.databricks.v1+output": {
              "datasetInfos": [],
              "data": "<div class=\"ansiout\">Out[32]: </div>",
              "removedWidgets": [],
              "addedWidgets": {},
              "metadata": {},
              "type": "html",
              "arguments": {}
            }
          },
          "data": {
            "text/html": [
              "<style scoped>\n  .ansiout {\n    display: block;\n    unicode-bidi: embed;\n    white-space: pre-wrap;\n    word-wrap: break-word;\n    word-break: break-all;\n    font-family: \"Source Code Pro\", \"Menlo\", monospace;;\n    font-size: 13px;\n    color: #555;\n    margin-left: 4px;\n    line-height: 19px;\n  }\n</style>\n<div class=\"ansiout\">Out[32]: </div>"
            ]
          }
        },
        {
          "output_type": "display_data",
          "metadata": {
            "application/vnd.databricks.v1+output": {
              "datasetInfos": [],
              "data": "<div>\n<style scoped>\n    .dataframe tbody tr th:only-of-type {\n        vertical-align: middle;\n    }\n\n    .dataframe tbody tr th {\n        vertical-align: top;\n    }\n\n    .dataframe thead th {\n        text-align: right;\n    }\n</style>\n<table border=\"1\" class=\"dataframe\">\n  <thead>\n    <tr style=\"text-align: right;\">\n      <th></th>\n      <th>1</th>\n      <th>2</th>\n      <th>3</th>\n      <th>4</th>\n      <th>5</th>\n      <th>6</th>\n      <th>7</th>\n    </tr>\n  </thead>\n  <tbody>\n    <tr>\n      <th>1</th>\n      <td>311</td>\n      <td>90</td>\n      <td>2</td>\n      <td>0</td>\n      <td>13</td>\n      <td>5</td>\n      <td>36</td>\n    </tr>\n    <tr>\n      <th>2</th>\n      <td>101</td>\n      <td>220</td>\n      <td>12</td>\n      <td>0</td>\n      <td>58</td>\n      <td>11</td>\n      <td>3</td>\n    </tr>\n    <tr>\n      <th>3</th>\n      <td>1</td>\n      <td>10</td>\n      <td>306</td>\n      <td>23</td>\n      <td>13</td>\n      <td>78</td>\n      <td>0</td>\n    </tr>\n    <tr>\n      <th>4</th>\n      <td>0</td>\n      <td>1</td>\n      <td>22</td>\n      <td>423</td>\n      <td>0</td>\n      <td>25</td>\n      <td>0</td>\n    </tr>\n    <tr>\n      <th>5</th>\n      <td>9</td>\n      <td>26</td>\n      <td>3</td>\n      <td>0</td>\n      <td>364</td>\n      <td>4</td>\n      <td>0</td>\n    </tr>\n    <tr>\n      <th>6</th>\n      <td>1</td>\n      <td>4</td>\n      <td>58</td>\n      <td>13</td>\n      <td>5</td>\n      <td>319</td>\n      <td>0</td>\n    </tr>\n    <tr>\n      <th>7</th>\n      <td>19</td>\n      <td>7</td>\n      <td>0</td>\n      <td>0</td>\n      <td>2</td>\n      <td>0</td>\n      <td>404</td>\n    </tr>\n  </tbody>\n</table>\n</div>",
              "textData": null,
              "removedWidgets": [],
              "addedWidgets": {},
              "metadata": {},
              "type": "htmlSandbox",
              "arguments": {}
            }
          },
          "data": {
            "text/html": [
              "<div>\n<style scoped>\n    .dataframe tbody tr th:only-of-type {\n        vertical-align: middle;\n    }\n\n    .dataframe tbody tr th {\n        vertical-align: top;\n    }\n\n    .dataframe thead th {\n        text-align: right;\n    }\n</style>\n<table border=\"1\" class=\"dataframe\">\n  <thead>\n    <tr style=\"text-align: right;\">\n      <th></th>\n      <th>1</th>\n      <th>2</th>\n      <th>3</th>\n      <th>4</th>\n      <th>5</th>\n      <th>6</th>\n      <th>7</th>\n    </tr>\n  </thead>\n  <tbody>\n    <tr>\n      <th>1</th>\n      <td>311</td>\n      <td>90</td>\n      <td>2</td>\n      <td>0</td>\n      <td>13</td>\n      <td>5</td>\n      <td>36</td>\n    </tr>\n    <tr>\n      <th>2</th>\n      <td>101</td>\n      <td>220</td>\n      <td>12</td>\n      <td>0</td>\n      <td>58</td>\n      <td>11</td>\n      <td>3</td>\n    </tr>\n    <tr>\n      <th>3</th>\n      <td>1</td>\n      <td>10</td>\n      <td>306</td>\n      <td>23</td>\n      <td>13</td>\n      <td>78</td>\n      <td>0</td>\n    </tr>\n    <tr>\n      <th>4</th>\n      <td>0</td>\n      <td>1</td>\n      <td>22</td>\n      <td>423</td>\n      <td>0</td>\n      <td>25</td>\n      <td>0</td>\n    </tr>\n    <tr>\n      <th>5</th>\n      <td>9</td>\n      <td>26</td>\n      <td>3</td>\n      <td>0</td>\n      <td>364</td>\n      <td>4</td>\n      <td>0</td>\n    </tr>\n    <tr>\n      <th>6</th>\n      <td>1</td>\n      <td>4</td>\n      <td>58</td>\n      <td>13</td>\n      <td>5</td>\n      <td>319</td>\n      <td>0</td>\n    </tr>\n    <tr>\n      <th>7</th>\n      <td>19</td>\n      <td>7</td>\n      <td>0</td>\n      <td>0</td>\n      <td>2</td>\n      <td>0</td>\n      <td>404</td>\n    </tr>\n  </tbody>\n</table>\n</div>"
            ]
          }
        }
      ],
      "execution_count": null
    },
    {
      "cell_type": "markdown",
      "source": [
        "As shown above, observations in the test set with Cover Type 2 were misclassified by the model as Cover Type 1 a total of 101 times. This was the most common type of misclassification in the test set."
      ],
      "metadata": {
        "application/vnd.databricks.v1+cell": {
          "title": "",
          "showTitle": false,
          "inputWidgets": {},
          "nuid": "70e6e068-1906-4fcb-b02e-c646dee03ba0"
        },
        "id": "Lr_BHJK6ixGD"
      }
    },
    {
      "cell_type": "markdown",
      "source": [
        "Now, we will display the precision and recall values of the model for each Cover Type."
      ],
      "metadata": {
        "application/vnd.databricks.v1+cell": {
          "title": "",
          "showTitle": false,
          "inputWidgets": {},
          "nuid": "e25088a3-8219-4777-a491-d51365b1d351"
        },
        "id": "2ZuHJmtsixGD"
      }
    },
    {
      "cell_type": "code",
      "source": [
        "print('Label   Precision   Recall')\n",
        "print('--------------------------')\n",
        "for lab in (Cover_Type):\n",
        "  print(f'{lab:<8}{metrics.precision(lab):<12.4f}{metrics.recall(lab):.4f}')"
      ],
      "metadata": {
        "application/vnd.databricks.v1+cell": {
          "title": "",
          "showTitle": false,
          "inputWidgets": {},
          "nuid": "aa6a1ca1-e2d0-458b-9686-452a61840f20"
        },
        "id": "UW7e2xwEixGD",
        "outputId": "9e79d08d-85ce-4bb2-91cc-4da8ab9a568b"
      },
      "outputs": [
        {
          "output_type": "display_data",
          "metadata": {
            "application/vnd.databricks.v1+output": {
              "datasetInfos": [],
              "data": "<div class=\"ansiout\">Label   Precision   Recall\n--------------------------\n1       0.7036      0.6805\n2       0.6145      0.5432\n3       0.7593      0.7100\n4       0.9216      0.8981\n5       0.8000      0.8966\n6       0.7217      0.7975\n7       0.9120      0.9352\n</div>",
              "removedWidgets": [],
              "addedWidgets": {},
              "metadata": {},
              "type": "html",
              "arguments": {}
            }
          },
          "data": {
            "text/html": [
              "<style scoped>\n  .ansiout {\n    display: block;\n    unicode-bidi: embed;\n    white-space: pre-wrap;\n    word-wrap: break-word;\n    word-break: break-all;\n    font-family: \"Source Code Pro\", \"Menlo\", monospace;;\n    font-size: 13px;\n    color: #555;\n    margin-left: 4px;\n    line-height: 19px;\n  }\n</style>\n<div class=\"ansiout\">Label   Precision   Recall\n--------------------------\n1       0.7036      0.6805\n2       0.6145      0.5432\n3       0.7593      0.7100\n4       0.9216      0.8981\n5       0.8000      0.8966\n6       0.7217      0.7975\n7       0.9120      0.9352\n</div>"
            ]
          }
        }
      ],
      "execution_count": null
    },
    {
      "cell_type": "markdown",
      "source": [
        "**Some observations based on precision and recall value of the final model:**\n",
        "- As label 7 (Cover Type 7) has the highest recall value (0.9352), this label type is most likely to be correctly classified by our final model. <br \\>\n",
        "- Label type 2 (Cover Type 2) has the lowest recall score (0.5432). This means that the probability of identifying a cover type as type 2 out of all type 2 cover type is only about 54.32% and hence is most likely to be misclassified by the final model.<br \\>\n",
        "- Label type 5 (Cover Type 5) has the highest difference in precision and recall values (difference: 0.0966). There is about 80% probalility that the model correctly identifies Cover Type 5 while there is about 89.7% probability that the model correctly identifies a cover type as Cover Type 5 out of all existing Cover Type 5."
      ],
      "metadata": {
        "application/vnd.databricks.v1+cell": {
          "title": "",
          "showTitle": false,
          "inputWidgets": {},
          "nuid": "fa39a715-aba7-47f3-9575-7846b9470ed6"
        },
        "id": "O4ErGdqSixGE"
      }
    }
  ],
  "metadata": {
    "application/vnd.databricks.v1+notebook": {
      "notebookName": "Forest Cover Prediction Using pyspark",
      "dashboards": [],
      "notebookMetadata": {
        "pythonIndentUnit": 2,
        "experimentId": "4362009259301582"
      },
      "language": "python",
      "widgets": {},
      "notebookOrigID": 3717395527059120
    },
    "colab": {
      "provenance": []
    }
  },
  "nbformat": 4,
  "nbformat_minor": 0
}